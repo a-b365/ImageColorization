{
 "cells": [
  {
   "cell_type": "code",
   "execution_count": 1,
   "id": "9358e1b4",
   "metadata": {},
   "outputs": [],
   "source": [
    "from IPython.display import Image,display\n",
    "from tensorflow.keras.preprocessing.image import load_img\n",
    "from PIL import Image,ImageOps,ImageDraw,ImageColor\n",
    "import os"
   ]
  },
  {
   "cell_type": "code",
   "execution_count": 2,
   "id": "4f1aa0e3",
   "metadata": {},
   "outputs": [
    {
     "data": {
      "text/plain": [
       "['1.02-Agouti',\n",
       " '1.10-Ocelot',\n",
       " '1.14-Red_Squirrel',\n",
       " '1.22-Bird_spec',\n",
       " '1.27-White_Tailed_Deer',\n",
       " '1.56-Mouflon',\n",
       " '1.57-Red_Deer',\n",
       " '1.58-Roe_Deer',\n",
       " '1.59-Wild_Boar',\n",
       " '1.63-European_Hare',\n",
       " 'annotation.csv',\n",
       " 'classes.csv']"
      ]
     },
     "execution_count": 2,
     "metadata": {},
     "output_type": "execute_result"
    }
   ],
   "source": [
    "os.listdir('images/Set1/')"
   ]
  },
  {
   "cell_type": "code",
   "execution_count": 7,
   "id": "df8921bd",
   "metadata": {},
   "outputs": [],
   "source": [
    "import os\n",
    "import shutil\n",
    "from PIL import ImageFile\n",
    "destloc = 'images/Set2'\n",
    "sourceloc = 'images/Set2/'\n",
    "newloc = 'images/Set3'\n",
    "colors = list(ImageColor.colormap.values())\n",
    "ImageFile.LOAD_TRUNCATED_IMAGES = True\n",
    "\n",
    "substrings=['1.02-Agouti',\n",
    " '1.10-Ocelot',\n",
    " '1.14-Red_Squirrel',\n",
    " '1.22-Bird_spec',\n",
    " '1.27-White_Tailed_Deer',\n",
    " '1.56-Mouflon',\n",
    " '1.57-Red_Deer',\n",
    " '1.58-Roe_Deer',\n",
    " '1.59-Wild_Boar',\n",
    " '1.63-European_Hare',\n",
    "]\n",
    "\n",
    "def readAnnotations(filepath):\n",
    "    file = open(filepath,'r')\n",
    "    lines = file.readlines()\n",
    "    path=[]\n",
    "    #loop through all the lines in the file\n",
    "    for line in lines:\n",
    "        if line.split('/')[0] in substrings: #checks to see if the index 0 of returned list matches the given substring \n",
    "            path.append(line.split(' ',1)[0])\n",
    "    return path\n",
    "\n",
    "\n",
    "#Filtered the set of images for which bounding boxes are available \n",
    "def imageFilter(location):\n",
    "    path = readAnnotations('images/Set1/labels.txt')\n",
    "    for img in path:\n",
    "        if os.path.isdir(f\"D:/COMP303/{location}/{img.split('/')[0]}/{img.split('/')[1]}\") is False:\n",
    "            os.makedirs(f\"D:/COMP303/{location}/{img.split('/')[0]}/{img.split('/')[1]}\")\n",
    "        if os.path.isfile(f\"D:/COMP303/{destloc}/{img}\") is False:\n",
    "            shutil.move(f\"D:/COMP303/{sourceloc}/{img}\",f\"D:/COMP303/{destloc}/{img}\")\n",
    "\n",
    "#Check to see if bounding boxes are actually correct\n",
    "#Manually Apply Bounding Boxes with the help of labels.txt provided along with the Missouri Datasets        \n",
    "def applyBoxes():\n",
    "    path = readAnnotationsJSON('images/Set1/labels.txt')\n",
    "    for data in path:\n",
    "        im = Image.open(f\"D:/COMP303/{destloc}/{data['img']}\")\n",
    "        draw = ImageDraw.Draw(im)\n",
    "        (left, right, top, bottom) = (data['xmin'], data['xmax'], data['ymax'], data['ymin'])\n",
    "        draw.line([(left, top), (left, bottom), (right, bottom), (right, top),(left, top)],width=4,fill=(255,255,255,255))\n",
    "        im.save(f\"D:/COMP303/{newloc}/{data['img']}\")\n",
    "        im.close()\n",
    "       "
   ]
  },
  {
   "cell_type": "code",
   "execution_count": 39,
   "id": "8a03f056",
   "metadata": {},
   "outputs": [],
   "source": [
    "def readAnnotationsJSON(filepath):\n",
    "    file = open(filepath,'r')\n",
    "    lines = file.readlines()\n",
    "    path=[]\n",
    "    #loop through all the lines in the file\n",
    "    for line in lines:\n",
    "        data={\n",
    "\n",
    "            'img':'None',\n",
    "            'id':0,\n",
    "            'xmin':0,\n",
    "            'ymin':0,\n",
    "            'xmax':0,\n",
    "            'ymax':0\n",
    "        }\n",
    "        count = int(line.split(' ')[1])\n",
    "        if count:\n",
    "            if line.split('/')[0] in substrings: #checks to see if the index 0 of returned list matches the given substring\n",
    "                index = 0\n",
    "                for x in data.keys():\n",
    "                    if index == 0:\n",
    "                        data[x] = line.split(' ')[index]\n",
    "                    elif index == 1:\n",
    "                        data[x] = 1;\n",
    "                    elif index >1:\n",
    "                        data[x] = int(line.split(' ')[index].strip())\n",
    "                    index=index+1\n",
    "                path.append(data)\n",
    "    return path"
   ]
  },
  {
   "cell_type": "code",
   "execution_count": 1,
   "id": "42442298",
   "metadata": {},
   "outputs": [],
   "source": [
    "x=[]\n",
    "def readAnnotationstoOtherFile(filepath):\n",
    "    file = open(filepath,'r')\n",
    "    lines = file.readlines()\n",
    "    #loop through all the lines in the file\n",
    "    count = 0\n",
    "    for line in lines:\n",
    "        temp = line.split('/')\n",
    "        for str in temp:\n",
    "            x.append(''.join([line.strip(),' ',str.split('-')[1],'\\n']))\n",
    "            #x.append(''.join([str.split('-')[1],',',f\"{count}\",'\\n']))\n",
    "            break\n",
    "        count=count+1\n",
    "    file.close()\n",
    "    return x"
   ]
  },
  {
   "cell_type": "code",
   "execution_count": 48,
   "id": "474ae1ff",
   "metadata": {},
   "outputs": [],
   "source": [
    "def writeAnnotations(filepath):\n",
    "    file = open(filepath,'w')\n",
    "    #loop through all the lines in the file\n",
    "    for line in x:\n",
    "        file.write(line)\n",
    "    file.close()"
   ]
  }
 ],
 "metadata": {
  "kernelspec": {
   "display_name": "Python 3 (ipykernel)",
   "language": "python",
   "name": "python3"
  },
  "language_info": {
   "codemirror_mode": {
    "name": "ipython",
    "version": 3
   },
   "file_extension": ".py",
   "mimetype": "text/x-python",
   "name": "python",
   "nbconvert_exporter": "python",
   "pygments_lexer": "ipython3",
   "version": "3.7.7"
  }
 },
 "nbformat": 4,
 "nbformat_minor": 5
}
